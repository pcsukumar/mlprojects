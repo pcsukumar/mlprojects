{
 "cells": [
  {
   "cell_type": "markdown",
   "metadata": {},
   "source": [
    "### Task 1"
   ]
  },
  {
   "cell_type": "markdown",
   "metadata": {},
   "source": [
    "##### This program takes a positive floating-point number as input and outputs an approximation of its square root."
   ]
  },
  {
   "cell_type": "code",
   "execution_count": null,
   "metadata": {},
   "outputs": [],
   "source": [
    "def sqrt(number):\n",
    "    a = float(number) # number to get square root of\n",
    "    diff = 99999999   # set a big number as difference\n",
    "    while diff > 0.05: # iterate until difference between original number and squrare of guessed number is less than 0.05\n",
    "        number = 0.5 * (number + a / number) # update using newtowns method x_(n+1) = 0.5 * (x_n +a / x_n)\n",
    "        diff = abs(number**2-a)\n",
    "    return number\n",
    "\n",
    "num = float(input(\"Please enter a positive number:\"))\n",
    "sqroot = sqrt(num)\n",
    "print(\"The square root of {} is approx. {:.1f}\".format(num, sqroot))"
   ]
  },
  {
   "cell_type": "markdown",
   "metadata": {},
   "source": [
    "### Task 2"
   ]
  },
  {
   "cell_type": "markdown",
   "metadata": {},
   "source": [
    "### chi-squared test"
   ]
  },
  {
   "cell_type": "code",
   "execution_count": 1,
   "metadata": {},
   "outputs": [],
   "source": [
    "# Import pandas\n",
    "import pandas as pd\n",
    "\n",
    "# Import scipy\n",
    "import scipy.stats as ss"
   ]
  },
  {
   "cell_type": "code",
   "execution_count": 3,
   "metadata": {},
   "outputs": [
    {
     "data": {
      "text/plain": [
       "[['Coffee', 'Chocolate'],\n",
       " ['Coffee', 'Chocolate'],\n",
       " ['Coffee', 'Chocolate'],\n",
       " ['Coffee', 'Chocolate'],\n",
       " ['Coffee', 'Chocolate'],\n",
       " ['Coffee', 'Chocolate'],\n",
       " ['Coffee', 'Chocolate'],\n",
       " ['Coffee', 'Chocolate'],\n",
       " ['Coffee', 'Chocolate'],\n",
       " ['Coffee', 'Chocolate'],\n",
       " ['Coffee', 'Chocolate'],\n",
       " ['Coffee', 'Chocolate'],\n",
       " ['Coffee', 'Chocolate'],\n",
       " ['Coffee', 'Chocolate'],\n",
       " ['Coffee', 'Chocolate'],\n",
       " ['Coffee', 'Chocolate'],\n",
       " ['Coffee', 'Chocolate'],\n",
       " ['Coffee', 'Chocolate'],\n",
       " ['Coffee', 'Chocolate'],\n",
       " ['Coffee', 'Chocolate'],\n",
       " ['Coffee', 'Chocolate'],\n",
       " ['Coffee', 'Chocolate'],\n",
       " ['Coffee', 'Chocolate'],\n",
       " ['Coffee', 'Chocolate'],\n",
       " ['Coffee', 'Chocolate'],\n",
       " ['Coffee', 'Chocolate'],\n",
       " ['Coffee', 'Chocolate'],\n",
       " ['Coffee', 'Chocolate'],\n",
       " ['Coffee', 'Chocolate'],\n",
       " ['Coffee', 'Chocolate'],\n",
       " ['Coffee', 'Chocolate'],\n",
       " ['Coffee', 'Chocolate'],\n",
       " ['Coffee', 'Chocolate'],\n",
       " ['Coffee', 'Chocolate'],\n",
       " ['Coffee', 'Chocolate'],\n",
       " ['Coffee', 'Chocolate'],\n",
       " ['Coffee', 'Chocolate'],\n",
       " ['Coffee', 'Chocolate'],\n",
       " ['Coffee', 'Chocolate'],\n",
       " ['Coffee', 'Chocolate'],\n",
       " ['Coffee', 'Chocolate'],\n",
       " ['Coffee', 'Chocolate'],\n",
       " ['Coffee', 'Chocolate']]"
      ]
     },
     "execution_count": 3,
     "metadata": {},
     "output_type": "execute_result"
    }
   ],
   "source": [
    "# Coffee drinkers who prefer chocolate\n",
    "coffee_drinkers = [['Coffee', 'Chocolate']] * 43\n",
    "\n",
    "# Show.\n",
    "coffee_drinkers"
   ]
  }
 ],
 "metadata": {
  "kernelspec": {
   "display_name": "base",
   "language": "python",
   "name": "python3"
  },
  "language_info": {
   "codemirror_mode": {
    "name": "ipython",
    "version": 3
   },
   "file_extension": ".py",
   "mimetype": "text/x-python",
   "name": "python",
   "nbconvert_exporter": "python",
   "pygments_lexer": "ipython3",
   "version": "3.10.9"
  }
 },
 "nbformat": 4,
 "nbformat_minor": 2
}
